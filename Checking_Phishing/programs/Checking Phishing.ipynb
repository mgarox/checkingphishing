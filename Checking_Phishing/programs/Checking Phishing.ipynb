{
 "cells": [
  {
   "cell_type": "markdown",
   "id": "d6d4ecc0",
   "metadata": {},
   "source": [
    "<center> <h1> Checking Phishing </h1> </center>"
   ]
  },
  {
   "cell_type": "markdown",
   "id": "1538729b",
   "metadata": {},
   "source": [
    "### A. Deskripsi\n",
    "\n",
    "**Program ini berfungsi untuk melakukan otomasi pengecekkan Link Phishing**"
   ]
  },
  {
   "cell_type": "markdown",
   "id": "ff5f95dc",
   "metadata": {},
   "source": [
    "### B. Requirements\n",
    "\n",
    "Berikut adalah requirements yang diperlukan untuk program ini : \n",
    "- python 3.10.6\n",
    "- pandas 1.4.3\n",
    "- openpyxl 3.0.10\n",
    "- selenium 4.21.0\n",
    "- tqdm 4.64\n",
    "- requests 2.28.1\n",
    "- numpy 1.23.0"
   ]
  },
  {
   "cell_type": "markdown",
   "id": "c0586fd0-eabc-4b8c-92f0-e9232c8ec0f4",
   "metadata": {},
   "source": [
    "### C. Inisialisasi\n",
    "1. Buat folder \"files\" pada folder \"Checking_Phishing\"\n",
    "2. Copy file phishing dalam format CSV dalam folder \"files\""
   ]
  },
  {
   "cell_type": "markdown",
   "id": "085882dd",
   "metadata": {},
   "source": [
    "### D. Source Code"
   ]
  },
  {
   "cell_type": "markdown",
   "id": "b76af13d",
   "metadata": {},
   "source": [
    "#### 1. Import library yang diperlukan"
   ]
  },
  {
   "cell_type": "code",
   "execution_count": null,
   "id": "3c235e14",
   "metadata": {},
   "outputs": [],
   "source": [
    "# Libary untuk meload Chrome driver\n",
    "import selenium\n",
    "from selenium import webdriver\n",
    "# Libary untuk melakukan parsing nama domain pada URL\n",
    "from urllib.parse import urlparse\n",
    "# Library untuk membuat progress bar\n",
    "from tqdm import notebook\n",
    "# Library untuk manipulasi file data / dataframe\n",
    "import pandas as pd\n",
    "# Library untuk mengolah file path\n",
    "import os\n",
    "# Library untuk membuat delay\n",
    "import time\n",
    "# Library untuk mengirim HTTP Request\n",
    "import requests\n",
    "import pprint\n",
    "# Library untuk yang berhubungan dengan library 'requests' dan untuk tidak menampilkan pesan warning\n",
    "import urllib3\n",
    "urllib3.disable_warnings()"
   ]
  },
  {
   "cell_type": "markdown",
   "id": "0c947782",
   "metadata": {},
   "source": [
    "#### 2. Deklarasi Variabel/Konstanta Global"
   ]
  },
  {
   "cell_type": "code",
   "execution_count": null,
   "id": "3c058830",
   "metadata": {},
   "outputs": [],
   "source": [
    "# Variabel berisi mengenai full path file Phishing CSV\n",
    "PATH_NAMA_FILE_CSV = \"../files/url_phishing.csv\"\n",
    "\n",
    "# Variabel berisi nama file output\n",
    "NAMA_FILE_OUTPUT = PATH_NAMA_FILE_CSV.split('.')[-2].split('/')[-1]\n",
    "\n",
    "# Nama kolom yang berisikan full URL Phishing pada file phishing CSV\n",
    "NAMA_KOLOM_YANG_BERISIKAN_URL = \"URL\"\n",
    "\n",
    "# Separator pada file phishing CSV\n",
    "SEPARATOR = \",\"\n",
    "\n",
    "# Durasi berapa lama timeout\n",
    "TIMEOUT_AKSES_URL = 5\n",
    "\n",
    "# Delay untuk Chrome Driver mengambil Screenshot\n",
    "DELAY = 5"
   ]
  },
  {
   "cell_type": "markdown",
   "id": "77909f59",
   "metadata": {},
   "source": [
    "#### 3. Membuat fungsi"
   ]
  },
  {
   "cell_type": "code",
   "execution_count": null,
   "id": "79fe292e",
   "metadata": {},
   "outputs": [],
   "source": [
    "# Fungsi untuk menambahkan kolom baru \"Status\", \"Screenshot\", dan \"Response Code\" ke dalam Dataframe\n",
    "def menambah_kolom_baru(dataframe):\n",
    "    \n",
    "    dataframe[\"Status\"] = \"\"\n",
    "    \n",
    "    dataframe[\"Screenshot\"] = \"\"\n",
    "    \n",
    "    dataframe[\"Response Code\"] = \"\"\n",
    "    \n",
    "    return dataframe"
   ]
  },
  {
   "cell_type": "code",
   "execution_count": null,
   "id": "49b1b9fb",
   "metadata": {},
   "outputs": [],
   "source": [
    "# Fungsi untuk melakukan load ChromeDriver dengan Selenium \n",
    "def meload_chrome_driver():\n",
    "\n",
    "    # Konfigurasi untuk Chrome driver agar bisa langsung mengakses HTTPS tanpa Certificate SSL\n",
    "    options = webdriver.ChromeOptions()\n",
    "    options.add_argument('--ignore-ssl-errors=yes')\n",
    "    options.add_argument('--ignore-certificate-errors')\n",
    "\n",
    "    # Meload Chrome driver\n",
    "    driver = webdriver.Chrome(options=options)\n",
    "    \n",
    "    # Melakukan resize window dengan fullscreen\n",
    "    # Agar ketika screenshot, hasil screenshot website dapat di-screenshot dengan fullsize\n",
    "    driver.maximize_window()\n",
    "    \n",
    "    return driver"
   ]
  },
  {
   "cell_type": "code",
   "execution_count": null,
   "id": "b461628e",
   "metadata": {},
   "outputs": [],
   "source": [
    "# Fungsi untuk mengecek keseluruhan gambar hasil Screenshot apakah\n",
    "def mengecek_keseluruhan_gambar_hasil_screenshot(list_gambar_screenshot_fail):\n",
    "    \n",
    "    for gambar in notebook.tqdm(list_gambar_screenshot_fail, desc=\"Mengecek File Screenshot\"):\n",
    "        print(gambar,\"tidak berhasil di-save\")"
   ]
  },
  {
   "cell_type": "code",
   "execution_count": null,
   "id": "227946f2",
   "metadata": {},
   "outputs": [],
   "source": [
    "# Fungsi untuk mengambil screenshot website phishing menggunakan Selenium via Chromedriver\n",
    "def mengambil_gambar_website_phishing(url_phishing, dataframe):\n",
    "    \n",
    "    # Membuat variabel untuk menentukan indeks URL dan indeks penamaan gambar hasil screenshot\n",
    "    indeks_url = 0\n",
    "    \n",
    "    # Membuat variabel ber-tipe \"list\" dengan isi kosong untuk menampung gambar apa saja yang tidak berhasil di-save\n",
    "    list_gambar_screenshot_fail = []\n",
    "    \n",
    "    # Memanggil fungsi untuk me-load ChromeDriver dengan Selenium\n",
    "    driver = meload_chrome_driver()\n",
    "    \n",
    "    # Membuat folder bernama \"Screenshots\" untuk menyimpan hasil Screenshots\n",
    "    if(os.path.isdir(\"../files/Screenshots/\") == False):\n",
    "        os.mkdir(\"../files/Screenshots\")\n",
    "\n",
    "    # Membuat file path Screenshots\n",
    "    path_screenshots = os.path.join(os.getcwd(),\"../files/Screenshots/\")\n",
    "    \n",
    "    # Menyimpan hasil screenshots\n",
    "    for url in notebook.tqdm((url_phishing), desc=\"Mengambil Screenshot dari Browser\"):\n",
    "        \n",
    "        try:\n",
    "            \n",
    "            # Melakukan request koneksi GET HTTP Request\n",
    "            # Jika HTTPS, maka tidak akan di-verifikasi certificate SSL nya dengan parameter verify=False\n",
    "            # Batas timeout adalah n detik\n",
    "            response = requests.get(url, verify=False, timeout=TIMEOUT_AKSES_URL)    \n",
    "\n",
    "            # Jika response code adalah \"200\" maka akan menjalankan ChromeDriver dan menyimpan gambar\n",
    "            if(response.status_code == 200):\n",
    "\n",
    "                # Jika terdapat string \"SITUS DIBLOKIR\" pada response server maka mengisi status \"Response Code 200 - Situs Diblokir\"\n",
    "                if(\"SITUS DIBLOKIR\" in response.text):\n",
    "                    dataframe[\"Status\"][indeks_url] = \"Response Code 200 - Situs Diblokir\"\n",
    "                elif(\"Mercusuar\" in response.text):\n",
    "                    dataframe[\"Status\"][indeks_url] = \"Response Code 200 - Mercusuar (Situs tidak ditemukan)\"\n",
    "                elif(\"Internet Positif\" in response.text):\n",
    "                    dataframe[\"Status\"][indeks_url] = \"Response Code 200 - Internet Positif (Situs tidak bisa diakses)\"\n",
    "                else:\n",
    "                    dataframe[\"Status\"][indeks_url] = \"Response Code 200\"\n",
    "                \n",
    "                try:\n",
    "\n",
    "                    # Chrome Driver mengakses URL\n",
    "                    driver.get(url)\n",
    "                    \n",
    "                    # Melakukan delay n detik agar ChromeDriver dapat melakukan SS secara sempurna\n",
    "                    time.sleep(DELAY)\n",
    "\n",
    "                    # Menyimpan file screenshots dalam format PNG dengan nama domain\n",
    "                    # Misal : link-phishing.com.png\n",
    "                    driver.save_screenshot(path_screenshots + urlparse(url).netloc + \".png\")\n",
    "\n",
    "                    print(\"Website\",str(url),\"ber-status\",dataframe[\"Status\"][indeks_url])\n",
    "                \n",
    "                except selenium.common.exceptions.WebDriverException:\n",
    "        \n",
    "                    pass\n",
    "                \n",
    "            # Jika selain response code \"200\" maka website \"kemungkinan\" tidak aktif\n",
    "            else:\n",
    "\n",
    "                # Mengisi status \"Tidak Aktif\"\n",
    "                dataframe[\"Status\"][indeks_url] = \"Tidak Aktif\"\n",
    "                \n",
    "                print(\"Website\",str(url),\"ber-status\",dataframe[\"Status\"][indeks_url])\n",
    "\n",
    "            # Mengisi response code\n",
    "            dataframe[\"Response Code\"][indeks_url] = response.status_code\n",
    "\n",
    "        # Jika terjadi koneksi error maka website \"kemungkinan\" tidak aktif\n",
    "        except requests.exceptions.ConnectionError:\n",
    "            \n",
    "            dataframe[\"Status\"][indeks_url] = \"Tidak Aktif\"\n",
    "            \n",
    "            print(\"Website\",str(url),\"ber-status\",dataframe[\"Status\"][indeks_url])\n",
    "        \n",
    "        # Jika terjadi timeout maka website dianggap tidak bisa diakses\n",
    "        except requests.exceptions.ReadTimeout:\n",
    "            \n",
    "            dataframe[\"Status\"][indeks_url] = \"Tidak bisa diakses - Timeout\"\n",
    "            \n",
    "            print(\"Website\",str(url),\"ber-status\",dataframe[\"Status\"][indeks_url])\n",
    "\n",
    "        # Melakukan pengecekkan file screenshot\n",
    "        if(os.path.exists(path_screenshots + urlparse(url).netloc + \".png\") == False):\n",
    "            dataframe[\"Screenshot\"][indeks_url] = \"Tidak berhasil di-Screenshot\"\n",
    "            # Menambahkan nama file gambar yang tidak berhasil di-Screesnhot dan ditambah pada variabel 'list_gambar_screenshot_fail'\n",
    "            list_gambar_screenshot_fail.append(urlparse(url).netloc + \".png\")\n",
    "        else:\n",
    "            dataframe[\"Screenshot\"][indeks_url] = \"Sukses di-Screenshot\"\n",
    "        \n",
    "        indeks_url += 1\n",
    "    \n",
    "    # Menyimpan file dalam bentuk Excel\n",
    "    dataframe.to_excel(f\"../files/{NAMA_FILE_OUTPUT}_output.xlsx\", index=False)\n",
    "    \n",
    "    print(f\"Menyimpan file {NAMA_FILE_OUTPUT}_output.xlsx\")\n",
    "    \n",
    "    return dataframe, list_gambar_screenshot_fail"
   ]
  },
  {
   "cell_type": "markdown",
   "id": "d33d96e9",
   "metadata": {},
   "source": [
    "#### 4. Membuat fungsi utama"
   ]
  },
  {
   "cell_type": "code",
   "execution_count": null,
   "id": "23892d3e",
   "metadata": {},
   "outputs": [],
   "source": [
    "def main():\n",
    "    \n",
    "    # Membaca file CSV\n",
    "    dataframe_phishing = pd.read_csv(PATH_NAMA_FILE_CSV, sep=SEPARATOR)\n",
    "    \n",
    "    # Menambahkan kolom baru pada dataframe\n",
    "    dataframe_phishing = menambah_kolom_baru(dataframe=dataframe_phishing)\n",
    "    \n",
    "    # Membuat variabel baru yang hanya berisikan URL Phishing saja\n",
    "    list_phishing = dataframe_phishing[NAMA_KOLOM_YANG_BERISIKAN_URL]\n",
    "    \n",
    "    # Menjalankan fungsi untuk mengambil screenshot\n",
    "    dataframe_phishing, list_gambar_phishing_yang_fail = mengambil_gambar_website_phishing(url_phishing=list_phishing, dataframe=dataframe_phishing)\n",
    "    \n",
    "    # Memanggil fungsi untuk mengecek keseluruhan gambar yang tidak berhasil di-save\n",
    "    mengecek_keseluruhan_gambar_hasil_screenshot(list_gambar_screenshot_fail=list_gambar_phishing_yang_fail)"
   ]
  },
  {
   "cell_type": "markdown",
   "id": "e9d01de9",
   "metadata": {},
   "source": [
    "#### 5. Menjalankan fungsi utama"
   ]
  },
  {
   "cell_type": "code",
   "execution_count": null,
   "id": "04967312",
   "metadata": {
    "scrolled": true
   },
   "outputs": [],
   "source": [
    "main()"
   ]
  }
 ],
 "metadata": {
  "kernelspec": {
   "display_name": "Python 3 (ipykernel)",
   "language": "python",
   "name": "python3"
  },
  "language_info": {
   "codemirror_mode": {
    "name": "ipython",
    "version": 3
   },
   "file_extension": ".py",
   "mimetype": "text/x-python",
   "name": "python",
   "nbconvert_exporter": "python",
   "pygments_lexer": "ipython3",
   "version": "3.10.6"
  }
 },
 "nbformat": 4,
 "nbformat_minor": 5
}
